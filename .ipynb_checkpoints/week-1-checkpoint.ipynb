{
 "cells": [
  {
   "cell_type": "markdown",
   "id": "3f349625-e53a-4b42-8dde-796b0f9ccc98",
   "metadata": {},
   "source": [
    "# WEEK 1 - INTRODUCTION TO MACHINE LEARNING\n",
    "\n",
    "## What we will learn?\n",
    "\n",
    "### 1. Week: Introduction and Basic Concepts\n",
    "- **What is Machine Learning?**\n",
    "- **Supervised vs Unsupervised Learning**\n",
    "- **Installation of Python and necessary libraries**\n",
    "- **Data manipulation and visualization**\n",
    "\n",
    "### 2. Week: Regression vs Classification\n",
    "- **What is the difference?**\n",
    "- **Deep Learning**\n",
    "- **Regression Project**\n",
    "- **Classification Project**\n",
    "\n",
    "### 3. Week: Introduction and Basic Concepts\n",
    "- **What is Machine Learning?**\n",
    "- **Supervised vs Unsupervised Learning**\n",
    "- **Installation of Python and necessary libraries**\n",
    "- **Veri manipülasyonu ve görselleştirme**\n",
    "\n",
    "### 4. Week: Introduction and Basic Concepts\n",
    "- **What is Machine Learning?**\n",
    "- **Supervised vs Unsupervised Learning**\n",
    "- **Installation of Python and necessary libraries**\n",
    "- **Veri manipülasyonu ve görselleştirme**"
   ]
  },
  {
   "cell_type": "markdown",
   "id": "bf8c0b2d-9ef5-4a9d-9602-472bf0775e57",
   "metadata": {},
   "source": [
    "# A Short History of Machine Learning\n",
    "\n",
    "| **Who**     | **Topic**                                             |**Year**|\n",
    "|-------------|-------------------------------------------------------|--------|\n",
    "|Alan Turing  | **Turing Machine**                                    |**1936**|\n",
    "|Alan Turing  | **Computing Machinery and Intelligence (Turing Test)**|**1950**|\n",
    "|Cahit Arf    | **Makine Düşünebilir Mi ve Nasıl Düşünebilir?**       |**1959**|\n",
    "|Joseph Weizenbaum| **ELIZA**                                         |**1965**|\n",
    "|Marvin Minsky| **Computer Vision**                                   |**1966**|\n",
    "|Frank Rosenblatt| **Mark 1 Perceptron & Neural Webs**                |**1969**|\n",
    "|John Searle  | **Chinese Room**                                      |**1980**|\n",
    "|Geoffrey E. Hinton| **Back-propagation & Deep Learning**             |**1986**|\n",
    "|Steve Wozniak| **Coffee Test**                                       |**2010**|\n",
    "|OpenAI       | **GPT-1**                                             |**2018**|\n",
    "|OpenAI       | **GPT-3**                                             |**2020**|\n",
    "|OpenAI       | **GPT-4 & 4-o**                                       |**2023-4**|\n",
    "\n",
    "\"A recent announcement was made about an electronic embryo. This embryo will, in the future, talk, walk, see, write, reproduce, and even gain 'consciousness.'\" (For Mark 1 Perceptron)\n",
    "\n",
    "— New York Times"
   ]
  },
  {
   "cell_type": "markdown",
   "id": "be7986cb-3a4c-4827-964c-2d8413ad1581",
   "metadata": {},
   "source": [
    "<h2>Turing Test</h2>\n",
    "<img src=\"week-1-img/Turing_test_diagram.png\" alt=\"drawing\" width=\"200\"/>\n",
    "<h2>Makine Düşünebilir Mi ve Nasıl Düşünebilir?</h2>\n",
    "<img src=\"week-1-img/cahit-arf-makine-dusunebilir-mi-kapak.jpg\" alt=\"drawing\" width=\"200\"/>\n",
    "[https://mbkaya.com/hukuk/cahit-arf-makine-dusunebilir-mi.pdf](https://mbkaya.com/hukuk/cahit-arf-makine-dusunebilir-mi.pdf)\n",
    "<h2>ELIZA</h2>\n",
    "<img src=\"week-1-img/ELIZA_conversation.png\" alt=\"drawing\" width=\"200\"/>\n",
    "<h2>Computer Vision</h2>\n",
    "<img src=\"week-1-img/computer-vision.jpg\" alt=\"drawing\" width=\"200\"/>\n",
    "<h2>Chinese Room</h2>\n",
    "<img src=\"week-1-img/chinese-room.png\" alt=\"drawing\" width=\"200\"/>\n"
   ]
  },
  {
   "cell_type": "markdown",
   "id": "b0b19ed2-0cfa-47ec-ab3b-352002e64466",
   "metadata": {},
   "source": [
    "# So What Is Machine Learning Actually?"
   ]
  },
  {
   "cell_type": "markdown",
   "id": "04ab8ee9-be88-435b-bb2f-d8ab376de766",
   "metadata": {},
   "source": [
    "![](week-1-img/ml-desc.png)"
   ]
  },
  {
   "cell_type": "markdown",
   "id": "c5396a93-94dc-4f1a-8021-0a1caeddef8d",
   "metadata": {},
   "source": [
    ">**\"Artificial intelligence: the 'theory' and development of computer systems capable of performing tasks that normally require human intelligence.\"**\n",
    ">**- \"Machine learning: A system that gives computers the ability to 'learn' without needing to be programmed 'step by step'.\"**"
   ]
  },
  {
   "cell_type": "code",
   "execution_count": null,
   "id": "30bde811-d135-4278-ae32-42245dbe3d7f",
   "metadata": {},
   "outputs": [],
   "source": []
  }
 ],
 "metadata": {
  "kernelspec": {
   "display_name": "Python 3 (ipykernel)",
   "language": "python",
   "name": "python3"
  },
  "language_info": {
   "codemirror_mode": {
    "name": "ipython",
    "version": 3
   },
   "file_extension": ".py",
   "mimetype": "text/x-python",
   "name": "python",
   "nbconvert_exporter": "python",
   "pygments_lexer": "ipython3",
   "version": "3.11.7"
  }
 },
 "nbformat": 4,
 "nbformat_minor": 5
}
